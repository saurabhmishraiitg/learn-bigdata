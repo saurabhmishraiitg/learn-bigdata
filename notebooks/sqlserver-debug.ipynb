{
    "cells": [
        {
            "cell_type": "code",
            "execution_count": null,
            "metadata": {
                "azdata_cell_guid": "52de85ba-2d20-4e4c-9d60-cc7da4b7afaa"
            },
            "outputs": [],
            "source": [
                "-- Basic SQLServer Syntax\n"
            ]
        },
        {
            "cell_type": "code",
            "execution_count": null,
            "metadata": {
                "azdata_cell_guid": "538aeb00-501c-4c28-8c1f-ad9ec28aebf0"
            },
            "outputs": [],
            "source": [
                "-- Risk Assessment Debugging Queries\n",
                "\n",
                "-- select count(1) from market\n",
                "-- select count(1) from compliance_area\n",
                "-- select count(1) from banner\n",
                "-- select count(1) from government_agency\n",
                "-- select count(1) from facility_type\n",
                "select count(1) from country_store\n",
                "select count(1), count(distinct country_store_id) from stg_country_store"
            ]
        },
        {
            "cell_type": "code",
            "execution_count": null,
            "metadata": {
                "azdata_cell_guid": "ff40be8a-c975-4093-808a-51e702fd220b"
            },
            "outputs": [],
            "source": [
                "select * from country"
            ]
        },
        {
            "cell_type": "code",
            "execution_count": null,
            "metadata": {
                "azdata_cell_guid": "66cdb16a-85e9-4fa1-b5bf-6c3c81ffa31a"
            },
            "outputs": [],
            "source": [
                "-- List all PKs in the database\n",
                "select schema_name(tab.schema_id) as [schema_name],\n",
                "    pk.[name] as pk_name,\n",
                "    ic.index_column_id as column_id,\n",
                "    col.[name] as column_name,\n",
                "    tab.[name] as table_name\n",
                "from sys.tables as tab\n",
                "    inner join sys.indexes as pk\n",
                "        on tab.object_id = pk.object_id\n",
                "        and pk.is_primary_key = 1\n",
                "    inner join sys.index_columns as ic\n",
                "        on ic.object_id = pk.object_id\n",
                "        and ic.index_id = pk.index_id\n",
                "    inner join sys.columns as col\n",
                "        on pk.object_id = col.object_id\n",
                "        and col.column_id = ic.column_id\n",
                "order by schema_name(tab.schema_id),\n",
                "    pk.[name],\n",
                "    ic.index_column_id"
            ]
        }
    ],
    "metadata": {
        "kernelspec": {
            "display_name": "SQL",
            "language": "sql",
            "name": "SQL"
        },
        "language_info": {
            "name": "sql",
            "version": ""
        }
    },
    "nbformat": 4,
    "nbformat_minor": 2
}
