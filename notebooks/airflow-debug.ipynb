{
    "cells": [
        {
            "cell_type": "code",
            "execution_count": null,
            "metadata": {
                "azdata_cell_guid": "9a92167b-7ca9-4a82-aa5e-1cf2dec9ee2c",
                "extensions": {
                    "azuredatastudio": {
                        "views": []
                    }
                }
            },
            "outputs": [],
            "source": [
                "-- Cleanup the airflow DB for redundant/old records\n"
            ]
        },
        {
            "cell_type": "code",
            "execution_count": null,
            "metadata": {
                "azdata_cell_guid": "1e1cb0eb-0ea4-4bda-9826-bfc3f49aae9d"
            },
            "outputs": [],
            "source": [
                "select top 10 * from dag_run"
            ]
        },
        {
            "cell_type": "code",
            "execution_count": null,
            "metadata": {
                "azdata_cell_guid": "bc7ee8f9-9999-49ae-8523-38ec9d851d9e",
                "tags": []
            },
            "outputs": [],
            "source": [
                "select top 200 * from task_instance where state not in ('failed', 'success', 'upstream_failed')\n",
                "-- Mark old task_instances in open state to 'failed'\n",
                "-- UPDATE task_instance SET state = 'failed' WHERE state not in ('failed', 'success', 'upstream_failed') and datediff(day, start_date, GETDATE()) > 2 and dag_id is not null;\n",
                "-- UPDATE task_instance SET state = 'failed' WHERE state = 'removed' and dag_id is not null;"
            ]
        },
        {
            "cell_type": "code",
            "execution_count": null,
            "metadata": {
                "azdata_cell_guid": "52636a73-1204-4bf8-a20a-086ad69a6965"
            },
            "outputs": [],
            "source": [
                "select top 100 * from dag_run where state not in ('failed', 'success')"
            ]
        },
        {
            "cell_type": "code",
            "execution_count": null,
            "metadata": {
                "azdata_cell_guid": "f4d28bf7-0373-4524-a1e0-9819d35836d8"
            },
            "outputs": [],
            "source": [
                "select top 100 * from job where state='running' and dag_id is not null\n",
                "-- Mark old jobs stuck in running state as failed\n",
                "-- UPDATE job SET state = 'failed' WHERE state='running' and datediff(day, start_date, GETDATE()) > 5 and dag_id is not null;\n",
                "\n",
                "-- !!! DO NOT MARK JOBS WITH DAG_ID AS NULL FAILED!!! Seems these might be jobs belonging to scheduler functions"
            ]
        },
        {
            "cell_type": "code",
            "execution_count": null,
            "metadata": {
                "azdata_cell_guid": "29cd1678-98a5-4c7b-84b1-3c22e53b0f82"
            },
            "outputs": [],
            "source": [
                "select top 5 * from dag_run\n",
                "select count(1) from dag_run\n",
                "-- dag : dag_id, is_active, is_subdag, last_scheduler_run, schedule_interval\n",
                "-- dag_run : dag_id, execution_date, state, run_id, start_date, end_date\n",
                "-- task_fail : task_id, dag_id, execution_date, start_date, end_date, duration\n",
                "-- task_instance : task_id, dag_id, execution_date, start_date, end_date, duration, state, try_number, job_id, operator, max_tries\n",
                "\n",
                "-- extract frequency : hourly\n",
                "    -- dag : full extract\n",
                "    -- dag_run : DATE(end_date) > CURRENT_DATE - 1\n",
                "    -- task_fail : DATE(end_date) > CURRENT_DATE - 1\n",
                "    -- task_instance : DATE(end_date) > CURRENT_DATE - 1\n",
                "-- common datamodel\n",
                "    -- table_name\n",
                "    -- env_name (partition_key)\n",
                "    -- run_time (dd-mm-YYYY-HH-MM) (partition_key)\n",
                "    -- dag_id\n",
                "    -- dag_is_active\n",
                "    -- dag_is_subdag\n",
                "    -- dag_last_scheduler_run\n",
                "    -- dag_schedule_interval\n",
                "    -- dag_run_id\n",
                "    -- execution_date\n",
                "    -- start_date\n",
                "    -- end_date\n",
                "    -- state\n",
                "    -- task_id\n",
                "    -- duration\n",
                "    -- task_try_number\n",
                "    -- task_job_id\n",
                "    -- task_operator\n",
                "    -- task_max_tries\n",
                "\n",
                "-- DAG count over time\n",
                "-- Active DAG count over time\n",
                "-- Unscheduled DAGs\n",
                "-- DAG schedule spread\n",
                "-- Hourly DAG run count with status\n",
                "-- Hourly task fail count\n",
                "-- Hourly task run count\n",
                "-- Most frequently failing DAG\n",
                "-- Most Frequently failing task+DAG\n"
            ]
        }
    ],
    "metadata": {
        "extensions": {
            "azuredatastudio": {
                "version": 1,
                "views": []
            }
        },
        "kernelspec": {
            "display_name": "SQL",
            "language": "sql",
            "name": "SQL"
        },
        "language_info": {
            "name": "sql",
            "version": ""
        },
        "orig_nbformat": 4
    },
    "nbformat": 4,
    "nbformat_minor": 2
}
