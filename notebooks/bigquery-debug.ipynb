{
 "cells": [
  {
   "cell_type": "code",
   "execution_count": null,
   "metadata": {},
   "outputs": [],
   "source": [
    "# Adding appropriate authentication credentails\n",
    "import os\n",
    "os.environ['GOOGLE_APPLICATION_CREDENTIALS'] = '/Users/xxx/.config/gcloud/application_default_credentials.json'\n",
    "\n",
    "# BIGQUERY magic\n",
    "from google.cloud import bigquery\n",
    "%load_ext google.cloud.bigquery"
   ]
  },
  {
   "cell_type": "code",
   "execution_count": null,
   "metadata": {},
   "outputs": [],
   "source": [
    "%%bigquery\n",
    "# Debuggging Risk Assessment data issue\n",
    "# select name FROM `bigquery-public-data`.usa_names.usa_1910_current limit 5\n",
    "SELECT * FROM `xx-xxx-cat-prod`.catalog_location_views.businessunit_view limit 5"
   ]
  },
  {
   "cell_type": "code",
   "execution_count": null,
   "metadata": {},
   "outputs": [],
   "source": [
    "%%bigquery\n",
    "select\n",
    "business_unit_nbr as store_nbr,\n",
    "UPPER(TRIM(Country_code)) as cntry_cd,\n",
    "UPPER(TRIM(country_name)) AS country_name,\n",
    "latitude,\n",
    "longitude,\n",
    "UPPER(TRIM(Banner_code)) as banner_cd,\n",
    "COALESCE(UPPER(TRIM(banner_desc)), 'Unknown')  AS banner_desc,\n",
    "UPPER(TRIM(currency_code)) AS currency_code,\n",
    "UPPER(TRIM(currency_desc)) as currency_name,\n",
    "UPPER(TRIM(bu_type_code)) AS bu_type_code,\n",
    "COALESCE(UPPER(TRIM(bu_type_desc)), 'Unknown') AS bu_type_desc,\n",
    "UPPER(TRIM(physical_address_line_one)) AS physical_address_line_one,\n",
    "UPPER(TRIM(physical_address_line_two)) AS physical_address_line_two,\n",
    "UPPER(TRIM(physical_address_line_three)) AS physical_address_line_three,\n",
    "UPPER(TRIM(physical_address_line_four)) AS physical_address_line_four,\n",
    "UPPER(TRIM(physical_city))AS physical_city,\n",
    "UPPER(TRIM(physical_state_code)) AS physical_state_code,\n",
    "UPPER(TRIM(physical_zip_code)) AS physical_zip_code,\n",
    "CASE WHEN UPPER(TRIM(financial_reporting_group)) = 'K1' THEN 'CAM'\n",
    " WHEN UPPER(TRIM(financial_reporting_group)) = 'K2' THEN 'CL'\n",
    " WHEN UPPER(TRIM(financial_reporting_group)) = 'K3' THEN 'AF'\n",
    "ELSE UPPER(TRIM(financial_reporting_group)) END as market_nm\n",
    "from\n",
    "`xxx-xxx-cat-prod`.catalog_location_views.businessunit_view\n",
    "where\n",
    "business_unit_nbr is not null\n",
    "and financial_reporting_group is not null\n",
    "and financial_reporting_group not in ('AR', 'BR', 'GB')\n",
    "limit 1"
   ]
  }
 ],
 "metadata": {
  "interpreter": {
   "hash": "b4110167c44d7d2da44c22f5e8820a08d0e380b1f32a245a8f278a0021f615d6"
  },
  "kernelspec": {
   "display_name": "Python 3.7.11 64-bit ('bigquery': conda)",
   "language": "python",
   "name": "python3"
  },
  "language_info": {
   "codemirror_mode": {
    "name": "ipython",
    "version": 3
   },
   "file_extension": ".py",
   "mimetype": "text/x-python",
   "name": "python",
   "nbconvert_exporter": "python",
   "pygments_lexer": "ipython3",
   "version": "3.7.11"
  },
  "orig_nbformat": 4
 },
 "nbformat": 4,
 "nbformat_minor": 2
}
